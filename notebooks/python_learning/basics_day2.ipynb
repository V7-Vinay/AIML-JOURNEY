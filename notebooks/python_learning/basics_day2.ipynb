{
 "cells": [
  {
   "cell_type": "code",
   "execution_count": 4,
   "id": "91a40239-ad23-4688-bfa3-1d8e94b34c60",
   "metadata": {},
   "outputs": [
    {
     "name": "stdout",
     "output_type": "stream",
     "text": [
      "1 2.8 1j\n",
      "<class 'int'>\n",
      "<class 'float'>\n",
      "<class 'complex'>\n"
     ]
    }
   ],
   "source": [
    "# INT DATA TYPE\n",
    "\n",
    "x = 1    # int\n",
    "y = 2.8  # float\n",
    "z = 1j   # complex\n",
    "\n",
    "print(x,y,z)\n",
    "\n",
    "print(type(x))\n",
    "print(type(y))\n",
    "print(type(z))\n"
   ]
  },
  {
   "cell_type": "code",
   "execution_count": 6,
   "id": "03b0ba97-010c-4bb7-aeef-b718a0dc1835",
   "metadata": {},
   "outputs": [
    {
     "name": "stdout",
     "output_type": "stream",
     "text": [
      "1\n"
     ]
    }
   ],
   "source": [
    "import random\n",
    "# PRINTING A RAMDOM NUBER BETWEEN [X,Y)\n",
    "print(random.randrange(1, 10))"
   ]
  },
  {
   "cell_type": "code",
   "execution_count": 10,
   "id": "6add9ea5-0473-48e7-8672-9a4ad59c82f1",
   "metadata": {},
   "outputs": [
    {
     "name": "stdout",
     "output_type": "stream",
     "text": [
      "<class 'int'>\n",
      "<class 'float'>\n",
      "<class 'str'>\n"
     ]
    }
   ],
   "source": [
    "# TYPE CASTING\n",
    "x=5\n",
    "print(type(x))\n",
    "\n",
    "y=float(x)    # TYPE CASTING TO FLOAT VALUE\n",
    "print(type(y))\n",
    "\n",
    "z=str(x)     # TYPE CASTING TO STRING VALUE\n",
    "print(type(z))"
   ]
  },
  {
   "cell_type": "code",
   "execution_count": 22,
   "id": "1a78f67d-cc04-44e4-8bb8-88b5969b1ac5",
   "metadata": {},
   "outputs": [
    {
     "name": "stdout",
     "output_type": "stream",
     "text": [
      "VINAY\n",
      "Lorem ipsum ,\n",
      "consectetur \n",
      "ut labore et dolore magna aliqua.\n",
      "e\n",
      " \n",
      "b\n",
      "a\n",
      "n\n",
      "a\n",
      "n\n",
      "a\n",
      "13\n",
      "True\n",
      "True\n",
      "Yes, 'free' is present.\n"
     ]
    }
   ],
   "source": [
    "# STRINGS :: THE VALUE IN BETWEEN \"  \"   OR '  ' \n",
    "V =\"VINAY\"    # ASSING A STRING TO VARIABLE\n",
    "print(V)\n",
    "a = \"\"\"Lorem ipsum ,\n",
    "consectetur \n",
    "ut labore et dolore magna aliqua.\"\"\"\n",
    "print(a)          # Multiline Strings\n",
    "\n",
    "# STRINGS ARE ARRAYS \n",
    "a = \"Hello, World!\"\n",
    "print(a[1])\n",
    "print(\" \")\n",
    "\n",
    "for x in \"banana\":  #LOOPING IN A STRING\n",
    "  print(x)\n",
    "a = \"Hello, World!\" # LENGTH OF A STRING\n",
    "print(len(a))\n",
    "\n",
    "# To check if a certain phrase or character is present in a string, we can use the keyword in\n",
    "txt = \"The best things in life are free!\"\n",
    "print(\"free\" in txt)\n",
    "\n",
    "# To check if a certain phrase or character is NOT present in a string, we can use the keyword not in.\n",
    "txt = \"The best things in life are free!\"\n",
    "print(\"expensive\" not in txt)\n",
    "\n",
    "txt = \"The best things in life are free!\"\n",
    "if \"free\" in txt:              # USING IT WITH IF CAN ALSO BE USED WITH not in\n",
    "  print(\"Yes, 'free' is present.\")      "
   ]
  },
  {
   "cell_type": "code",
   "execution_count": 24,
   "id": "f173cb1b-1c70-4874-acbf-c53d623b2783",
   "metadata": {},
   "outputs": [
    {
     "name": "stdout",
     "output_type": "stream",
     "text": [
      "llo\n",
      "Hello\n",
      "llo_World!\n",
      "orl\n"
     ]
    }
   ],
   "source": [
    "# SLICING THROUGH STRINGS\n",
    "b = \"Hello_World!\"\n",
    "print(b[2:5])    # Get the characters from position 2 to position 5 (not included):\n",
    "print(b[:5])     # Slice From the Start\n",
    "print(b[2:])     # Slice To the End\n",
    "print(b[-5:-2])  # Negative indexes to start the slice from the end of the string:\n"
   ]
  },
  {
   "cell_type": "code",
   "execution_count": 29,
   "id": "bbdb66b5-dcf6-47d6-9845-65c7e03fd80e",
   "metadata": {},
   "outputs": [
    {
     "name": "stdout",
     "output_type": "stream",
     "text": [
      " HELLO WORLD! \n",
      " hello world! \n",
      "Hello World!\n",
      " Fello World! \n",
      "['abc', 'def', 'hij']\n"
     ]
    }
   ],
   "source": [
    "# Modify Strings\n",
    "\n",
    "a = \" Hello World! \"\n",
    "b=\"abc*def*hij\"\n",
    "print(a.upper())           # returns the string in UPPER case\n",
    "print(a.lower())           # returns the string in LOWER case\n",
    "print(a.strip())           # remove space in the BEGINING and ENDING\n",
    "print(a.replace(\"H\", \"F\")) # replace H with F\n",
    "print(b.split(\"*\"))        # method splits the string into substrings if it finds instances of the separator"
   ]
  },
  {
   "cell_type": "code",
   "execution_count": 32,
   "id": "28dd419f-1e62-4532-afbe-e7ac6f5210ec",
   "metadata": {},
   "outputs": [
    {
     "name": "stdout",
     "output_type": "stream",
     "text": [
      "Hello World\n"
     ]
    }
   ],
   "source": [
    "# CONCATENATION STRING \n",
    "a = \"Hello \"\n",
    "b = \"World\"\n",
    "c = a + b\n",
    "print(c)\n",
    "\n",
    "# age = 36\n",
    "#This will produce an error:\n",
    "# txt = \"My name is John, I am \" + age\n",
    "# print(txt)"
   ]
  },
  {
   "cell_type": "code",
   "execution_count": 33,
   "id": "2928aef6-6fab-487e-8064-74a244d99c8f",
   "metadata": {},
   "outputs": [
    {
     "ename": "TypeError",
     "evalue": "can only concatenate str (not \"int\") to str",
     "output_type": "error",
     "traceback": [
      "\u001b[31m---------------------------------------------------------------------------\u001b[39m",
      "\u001b[31mTypeError\u001b[39m                                 Traceback (most recent call last)",
      "\u001b[36mCell\u001b[39m\u001b[36m \u001b[39m\u001b[32mIn[33]\u001b[39m\u001b[32m, line 3\u001b[39m\n\u001b[32m      1\u001b[39m age = \u001b[32m36\u001b[39m\n\u001b[32m      2\u001b[39m \u001b[38;5;66;03m#This will produce an error:\u001b[39;00m\n\u001b[32m----> \u001b[39m\u001b[32m3\u001b[39m txt = \u001b[33;43m\"\u001b[39;49m\u001b[33;43mMy name is John, I am \u001b[39;49m\u001b[33;43m\"\u001b[39;49m\u001b[43m \u001b[49m\u001b[43m+\u001b[49m\u001b[43m \u001b[49m\u001b[43mage\u001b[49m\n\u001b[32m      4\u001b[39m \u001b[38;5;28mprint\u001b[39m(txt)\n",
      "\u001b[31mTypeError\u001b[39m: can only concatenate str (not \"int\") to str"
     ]
    }
   ],
   "source": [
    "age = 36\n",
    "#This will produce an error:\n",
    "txt = \"My name is John, I am \" + age\n",
    "print(txt)"
   ]
  },
  {
   "cell_type": "code",
   "execution_count": 41,
   "id": "9b27f46b-bb2d-4bc4-81b4-fceb1dd7b177",
   "metadata": {},
   "outputs": [
    {
     "name": "stdout",
     "output_type": "stream",
     "text": [
      "the price is 70.00 rupees\n",
      "the price is 120 rupees\n"
     ]
    }
   ],
   "source": [
    "price= 70\n",
    "txt =f\"the price is {price:.2f} rupees\"\n",
    "print(txt)\n",
    "txt =f\"the price is {30*4} rupees\"\n",
    "print(txt)"
   ]
  },
  {
   "cell_type": "code",
   "execution_count": 43,
   "id": "bab341ef-e703-406f-a866-aad368720480",
   "metadata": {},
   "outputs": [
    {
     "name": "stdout",
     "output_type": "stream",
     "text": [
      "We are the so-called \"Vikings\" from the north.\n"
     ]
    }
   ],
   "source": [
    "# TO USE \"\" INSIDE \"\"\n",
    "txt = \"We are the so-called \\\"Vikings\\\" from the north.\" \n",
    "print(txt)"
   ]
  },
  {
   "cell_type": "code",
   "execution_count": 50,
   "id": "9648bcc4-64ca-49a2-93d3-37974f454f51",
   "metadata": {},
   "outputs": [
    {
     "name": "stdout",
     "output_type": "stream",
     "text": [
      "5\n",
      "hello\n",
      "HELLO\n",
      "Hello\n",
      "Hello\n",
      "HELLO\n",
      "2\n",
      "2\n",
      "True\n",
      "True\n",
      "['a', 'b', 'c']\n",
      "join these words\n",
      "True\n",
      "True\n",
      "True\n",
      "3\n",
      "2\n"
     ]
    }
   ],
   "source": [
    "# important methods used on strings \n",
    "s = \"hello\"\n",
    "print(len(s)) # PRINTS LENGTH OF STRING\n",
    "\n",
    "if not s:  # or len(s) == 0  \n",
    "    print(\"Empty\")\n",
    "\n",
    "print(s.lower())     # hello world\n",
    "print(s.upper())     # HELLO WORLD\n",
    "print(s.title())     # Hello World first letter of each word uppercase\n",
    "print(s.capitalize()) # Hello world first letter uppercase, rest lowercase\n",
    "print(s.swapcase())  # hEllO wORLD swap upper/lower\n",
    "\n",
    "s = \"banana\"\n",
    "print(s.find(\"na\"))     # 2 index or -1 if not found\n",
    "print(s.index(\"na\"))    # 2 index or error if not found\n",
    "print(s.startswith(\"ba\")) # True\n",
    "print(s.endswith(\"na\"))   # True\n",
    "\n",
    "s = \"a,b,c\"\n",
    "print(s.split(\",\"))   # ['a', 'b', 'c']\n",
    "\n",
    "words = [\"join\", \"these\", \"words\"]\n",
    "print(\" \".join(words))  # join these words\n",
    "\n",
    "print(\"abc\".isalpha())   # CKECKS IF ALPHABETS  CAN USED WITH DECALRED VARIABLE ALSO S.ISALPHA()\n",
    "print(\"123\".isdigit())   # CHECKS IF DIGITS\n",
    "print(\"abc123\".isalnum()) # CKECKS IF ALPANUMERIC\n",
    "\n",
    "#  s.islower() / s.isupper() / s.istitle() CAN BE USED TO CHECK IT'S CORRESPONDING VALUES\n",
    "\n",
    "s = \"banana\"\n",
    "\n",
    "print(s.count(\"a\"))        # 3   (a appears 3 times)\n",
    "print(s.count(\"na\"))       # 2 TO CHECK THE NO OF TIMES A GIVEN VALUE OCCUR"
   ]
  },
  {
   "cell_type": "code",
   "execution_count": 52,
   "id": "a026885a-f439-4d3a-b3dc-ca3a306d8ab2",
   "metadata": {},
   "outputs": [
    {
     "name": "stdout",
     "output_type": "stream",
     "text": [
      "True\n",
      "False\n",
      "True\n",
      "True\n"
     ]
    }
   ],
   "source": [
    "# BOOLEAN \n",
    "print(10 > 9)\n",
    "print(10 < 9)\n",
    "C=\"F\"\n",
    "print(bool(x))  # ONLY GIVES FALSE WHEN X IS FALSE NULL EMPTY\n",
    "\n",
    "x = 200\n",
    "print(isinstance(x, int))"
   ]
  },
  {
   "cell_type": "code",
   "execution_count": null,
   "id": "f63ece1e-bca6-4cca-9ed4-45217e2dce12",
   "metadata": {},
   "outputs": [],
   "source": [
    "# SOME IMP OPERATOR\n",
    "#  //\tFloor division\n",
    "# IS , IS NOT IDENTITY OPERATORS\n",
    "# MEMBERSHIO OPERATORS IN NOT IN"
   ]
  }
 ],
 "metadata": {
  "kernelspec": {
   "display_name": "Python 3 (ipykernel)",
   "language": "python",
   "name": "python3"
  },
  "language_info": {
   "codemirror_mode": {
    "name": "ipython",
    "version": 3
   },
   "file_extension": ".py",
   "mimetype": "text/x-python",
   "name": "python",
   "nbconvert_exporter": "python",
   "pygments_lexer": "ipython3",
   "version": "3.13.2"
  }
 },
 "nbformat": 4,
 "nbformat_minor": 5
}
