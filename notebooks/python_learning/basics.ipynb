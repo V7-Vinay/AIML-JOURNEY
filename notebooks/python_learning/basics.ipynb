{
 "cells": [
  {
   "cell_type": "code",
   "execution_count": 2,
   "id": "c3d8f539-ca34-4807-8f78-142262c443b8",
   "metadata": {},
   "outputs": [
    {
     "name": "stdout",
     "output_type": "stream",
     "text": [
      "COMMENT\n"
     ]
    }
   ],
   "source": [
    "# THE \"#\" IS USED TI MAKE A SINGLE LINE COMMENT IN PYTHON \n",
    "print(\"COMMENT\")"
   ]
  },
  {
   "cell_type": "code",
   "execution_count": 4,
   "id": "a6defe1c-4bae-4c6b-952a-d61cbddc388e",
   "metadata": {},
   "outputs": [
    {
     "name": "stdout",
     "output_type": "stream",
     "text": [
      "COMMENT\n"
     ]
    }
   ],
   "source": [
    "# THIS IS A\n",
    "# MULTI LINE \n",
    "# COMMENT\n",
    "print(\"COMMENT\")"
   ]
  },
  {
   "cell_type": "code",
   "execution_count": 6,
   "id": "0d87b5c2-9446-4529-a4b4-abc1c1b017ba",
   "metadata": {},
   "outputs": [
    {
     "name": "stdout",
     "output_type": "stream",
     "text": [
      "COMMENT\n"
     ]
    }
   ],
   "source": [
    "\"\"\"THIS CAN ALSO BE A\n",
    "MULTI LINE COMMENT\"\"\"\n",
    "print(\"COMMENT\")"
   ]
  },
  {
   "cell_type": "code",
   "execution_count": 16,
   "id": "540c0065-369c-4658-a6fe-06d98b3bb775",
   "metadata": {},
   "outputs": [
    {
     "name": "stdout",
     "output_type": "stream",
     "text": [
      "5.5\n",
      "6\n",
      "THE VARIABLE STORE ALPHABET \n",
      "<class 'float'>\n",
      "<class 'int'>\n",
      "<class 'str'>\n"
     ]
    }
   ],
   "source": [
    "# VARIABLES \n",
    "# DECLARING THE VARIABLES IS VERY EASY IN PYTHON\n",
    "X=5.5\n",
    "Y=\"THE VARIABLE STORE ALPHABET \"#WE CAN USE \" OR ' CODE FOR STORING A STRING INTO VARIABLE\n",
    "x=6\n",
    "print(X)\n",
    "print(x)\n",
    "print(Y)\n",
    "# WE CAN GET THE TYPE OF VARIABLE USING \n",
    "#YPTE() FUNCTION \n",
    "print(type(X))\n",
    "print(type(x))\n",
    "print(type(Y))\n"
   ]
  },
  {
   "cell_type": "code",
   "execution_count": 17,
   "id": "aac40194-79d9-438e-8c06-4b26a9e7b625",
   "metadata": {},
   "outputs": [
    {
     "name": "stdout",
     "output_type": "stream",
     "text": [
      "RULES OF DECLARING THE VARIABLE \n"
     ]
    }
   ],
   "source": [
    "# RULES OF DECLARING A VARIABLE \n",
    "# START WITH _ OR ALHABETS NOT WITH ANY NUMBERS OR SPECIAL CHARCTERS\n",
    "# NUMBERS CAN BE FOLLOWED BY 1 OR MORE ALPHABET OR UNDERSCORE\n",
    "# CASE SENSITIVE\n",
    "# KEY WORDS CAN'T BE USED AS VARIABLES \n",
    "print(\"RULES OF DECLARING THE VARIABLE \")\n"
   ]
  },
  {
   "cell_type": "code",
   "execution_count": 19,
   "id": "7baf7747-c375-48a5-9da3-858b5c0c4c15",
   "metadata": {},
   "outputs": [
    {
     "name": "stdout",
     "output_type": "stream",
     "text": [
      "DIFFERENT TYPES OF CASES\n"
     ]
    }
   ],
   "source": [
    "myVariableName=\"CAMEL_CASE\" #CAMEL_CASE\n",
    "MyVariableName=\"PASCAL_CASE\" #PASCAL_CASE\n",
    "my_variable_name=\"SNAKE_CASE\" #SNAKE_CASE\n",
    "print(\"DIFFERENT TYPES OF CASES\")"
   ]
  },
  {
   "cell_type": "code",
   "execution_count": 24,
   "id": "dae39bf3-046c-402c-a7cc-ee3ed2bff3b4",
   "metadata": {},
   "outputs": [
    {
     "name": "stdout",
     "output_type": "stream",
     "text": [
      "Orange\n",
      "Banana\n",
      "Cherry\n",
      "\n",
      "Orange\n",
      "Orange\n",
      "Orange\n",
      "\n",
      "apple\n",
      "banana\n",
      "cherry\n"
     ]
    }
   ],
   "source": [
    "# Many Values to Multiple Variables\n",
    "x, y, z = \"Orange\", \"Banana\", \"Cherry\"\n",
    "print(x)\n",
    "print(y)\n",
    "print(z)\n",
    "print(\"\")\n",
    "\n",
    "# One Value to Multiple Variables\n",
    "x = y = z = \"Orange\"\n",
    "print(x)\n",
    "print(y)\n",
    "print(z)\n",
    "print(\"\")\n",
    "# Unpack a Collection  : If you have a collection of values in a list, tuple etc.\n",
    "# Python allows you to extract the values into variables. This is called unpacking.\n",
    "fruits = [\"apple\", \"banana\", \"cherry\"]\n",
    "x, y, z = fruits\n",
    "print(x)\n",
    "print(y)\n",
    "print(z)"
   ]
  },
  {
   "cell_type": "code",
   "execution_count": 35,
   "id": "2785891f-6e79-46c9-be05-a63938a813e1",
   "metadata": {},
   "outputs": [
    {
     "name": "stdout",
     "output_type": "stream",
     "text": [
      "5\n",
      "Python is awesome\n",
      "Pythonis awesome\n",
      "5 John\n",
      "Hello World\n"
     ]
    }
   ],
   "source": [
    "# TO PRINT OR GIVING OUTPUT WE HAVE \n",
    "print(5)\n",
    "\n",
    "x = \"Python\"\n",
    "y = \"is\"\n",
    "z = \"awesome\"\n",
    "print(x,y, z)\n",
    "\n",
    "x = \"Python\"\n",
    "y = \"is \"\n",
    "z = \"awesome\"\n",
    "print(x+ y + z)\n",
    "\n",
    "x = 5\n",
    "y = \"John\"\n",
    "# YOU CAN'T PRINT print(x+y) ABOVE IT WILL GIVE YOU  A ERROR\n",
    "# BUT CAN CAN PRINT print(X,Y)\n",
    "print(x,y)\n",
    "\n",
    "print('Hello', 'World')"
   ]
  },
  {
   "cell_type": "code",
   "execution_count": 39,
   "id": "a566686a-30ad-4162-abc5-89954083d192",
   "metadata": {},
   "outputs": [
    {
     "name": "stdout",
     "output_type": "stream",
     "text": [
      "Python is awesome\n",
      "Python is fantastic\n",
      "Python is awesome\n",
      "Python is fantastic\n"
     ]
    }
   ],
   "source": [
    "# Global Variables :: Variables that are created outside of a function \n",
    "\n",
    "x = \"awesome\" #GLOBAL VARIABLE\n",
    "def myfunc():\n",
    "  print(\"Python is \" + x)\n",
    "myfunc()\n",
    "\n",
    "\n",
    "x = \"awesome\"\n",
    "def myfunc():\n",
    "  x = \"fantastic\"  #LOCAL VARIABLE \n",
    "  print(\"Python is \" + x)\n",
    "myfunc()\n",
    "print(\"Python is \" + x)\n",
    "\n",
    "x = \"awesome\"\n",
    "def myfunc():\n",
    "  global x  # WE CAN USE GLOBAL KEY WORD BEFORE A VARIABLE TO MAKE IT GLOBAL\n",
    "  x = \"fantastic\"\n",
    "myfunc()\n",
    "print(\"Python is \" + x)"
   ]
  },
  {
   "cell_type": "code",
   "execution_count": 40,
   "id": "2cdeb5ed-bb4f-45a7-9ebf-0dffe9100c45",
   "metadata": {},
   "outputs": [
    {
     "name": "stdout",
     "output_type": "stream",
     "text": [
      "THESE ARE THE AVAAILABLE DATA TYPES IN PY\n"
     ]
    }
   ],
   "source": [
    "# BUILT IN DATAA TYPES ARE ::\n",
    "# Text Type:\tstr\n",
    "# Numeric Types:\tint, float, complex\n",
    "# Sequence Types:\tlist, tuple, range\n",
    "# Mapping Type:\tdict\n",
    "# Set Types:\tset, frozenset\n",
    "# Boolean Type:\tbool\n",
    "# Binary Types:\tbytes, bytearray, memoryview\n",
    "# None Type:\tNoneType\n",
    "print(\"THESE ARE THE AVAAILABLE DATA TYPES IN PY\")"
   ]
  },
  {
   "cell_type": "code",
   "execution_count": null,
   "id": "5202d2a4-f9f6-4c8a-b8a5-6d8db9578f38",
   "metadata": {},
   "outputs": [],
   "source": []
  }
 ],
 "metadata": {
  "kernelspec": {
   "display_name": "Python 3 (ipykernel)",
   "language": "python",
   "name": "python3"
  },
  "language_info": {
   "codemirror_mode": {
    "name": "ipython",
    "version": 3
   },
   "file_extension": ".py",
   "mimetype": "text/x-python",
   "name": "python",
   "nbconvert_exporter": "python",
   "pygments_lexer": "ipython3",
   "version": "3.13.2"
  }
 },
 "nbformat": 4,
 "nbformat_minor": 5
}
